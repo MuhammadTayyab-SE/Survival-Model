{
 "cells": [
  {
   "cell_type": "code",
   "execution_count": 2,
   "metadata": {},
   "outputs": [
    {
     "name": "stdout",
     "output_type": "stream",
     "text": [
      "Requirement already satisfied: lifelines in c:\\users\\muhammad.tayyab01\\anaconda3\\envs\\ml\\lib\\site-packages (0.27.4)\n",
      "Requirement already satisfied: matplotlib>=3.0 in c:\\users\\muhammad.tayyab01\\anaconda3\\envs\\ml\\lib\\site-packages (from lifelines) (3.5.2)\n",
      "Requirement already satisfied: formulaic>=0.2.2 in c:\\users\\muhammad.tayyab01\\anaconda3\\envs\\ml\\lib\\site-packages (from lifelines) (0.5.2)\n",
      "Requirement already satisfied: autograd-gamma>=0.3 in c:\\users\\muhammad.tayyab01\\anaconda3\\envs\\ml\\lib\\site-packages (from lifelines) (0.5.0)\n",
      "Requirement already satisfied: autograd>=1.5 in c:\\users\\muhammad.tayyab01\\anaconda3\\envs\\ml\\lib\\site-packages (from lifelines) (1.5)\n",
      "Requirement already satisfied: scipy>=1.2.0 in c:\\users\\muhammad.tayyab01\\anaconda3\\envs\\ml\\lib\\site-packages (from lifelines) (1.9.1)\n",
      "Requirement already satisfied: numpy>=1.14.0 in c:\\users\\muhammad.tayyab01\\anaconda3\\envs\\ml\\lib\\site-packages (from lifelines) (1.23.1)\n",
      "Requirement already satisfied: pandas>=1.0.0 in c:\\users\\muhammad.tayyab01\\anaconda3\\envs\\ml\\lib\\site-packages (from lifelines) (1.4.3)\n",
      "Requirement already satisfied: future>=0.15.2 in c:\\users\\muhammad.tayyab01\\anaconda3\\envs\\ml\\lib\\site-packages (from autograd>=1.5->lifelines) (0.18.3)\n",
      "Requirement already satisfied: interface-meta>=1.2.0 in c:\\users\\muhammad.tayyab01\\anaconda3\\envs\\ml\\lib\\site-packages (from formulaic>=0.2.2->lifelines) (1.3.0)\n",
      "Requirement already satisfied: typing-extensions>=4.2.0 in c:\\users\\muhammad.tayyab01\\anaconda3\\envs\\ml\\lib\\site-packages (from formulaic>=0.2.2->lifelines) (4.3.0)\n",
      "Requirement already satisfied: wrapt>=1.0 in c:\\users\\muhammad.tayyab01\\anaconda3\\envs\\ml\\lib\\site-packages (from formulaic>=0.2.2->lifelines) (1.14.1)\n",
      "Requirement already satisfied: astor>=0.8 in c:\\users\\muhammad.tayyab01\\anaconda3\\envs\\ml\\lib\\site-packages (from formulaic>=0.2.2->lifelines) (0.8.1)\n",
      "Requirement already satisfied: kiwisolver>=1.0.1 in c:\\users\\muhammad.tayyab01\\anaconda3\\envs\\ml\\lib\\site-packages (from matplotlib>=3.0->lifelines) (1.4.2)\n",
      "Requirement already satisfied: cycler>=0.10 in c:\\users\\muhammad.tayyab01\\anaconda3\\envs\\ml\\lib\\site-packages (from matplotlib>=3.0->lifelines) (0.11.0)\n",
      "Requirement already satisfied: packaging>=20.0 in c:\\users\\muhammad.tayyab01\\anaconda3\\envs\\ml\\lib\\site-packages (from matplotlib>=3.0->lifelines) (21.3)\n",
      "Requirement already satisfied: pillow>=6.2.0 in c:\\users\\muhammad.tayyab01\\anaconda3\\envs\\ml\\lib\\site-packages (from matplotlib>=3.0->lifelines) (9.2.0)\n",
      "Requirement already satisfied: pyparsing>=2.2.1 in c:\\users\\muhammad.tayyab01\\anaconda3\\envs\\ml\\lib\\site-packages (from matplotlib>=3.0->lifelines) (3.0.9)\n",
      "Requirement already satisfied: python-dateutil>=2.7 in c:\\users\\muhammad.tayyab01\\anaconda3\\envs\\ml\\lib\\site-packages (from matplotlib>=3.0->lifelines) (2.8.2)\n",
      "Requirement already satisfied: fonttools>=4.22.0 in c:\\users\\muhammad.tayyab01\\anaconda3\\envs\\ml\\lib\\site-packages (from matplotlib>=3.0->lifelines) (4.25.0)\n",
      "Requirement already satisfied: pytz>=2020.1 in c:\\users\\muhammad.tayyab01\\anaconda3\\envs\\ml\\lib\\site-packages (from pandas>=1.0.0->lifelines) (2022.1)\n",
      "Requirement already satisfied: six>=1.5 in c:\\users\\muhammad.tayyab01\\anaconda3\\envs\\ml\\lib\\site-packages (from python-dateutil>=2.7->matplotlib>=3.0->lifelines) (1.16.0)\n",
      "Note: you may need to restart the kernel to use updated packages.\n"
     ]
    }
   ],
   "source": [
    "%pip install lifelines"
   ]
  },
  {
   "cell_type": "code",
   "execution_count": 3,
   "metadata": {},
   "outputs": [],
   "source": [
    "from lifelines.datasets import load_rossi\n",
    "from sklearn.preprocessing import LabelEncoder"
   ]
  },
  {
   "cell_type": "code",
   "execution_count": 4,
   "metadata": {},
   "outputs": [
    {
     "data": {
      "text/html": [
       "<div>\n",
       "<style scoped>\n",
       "    .dataframe tbody tr th:only-of-type {\n",
       "        vertical-align: middle;\n",
       "    }\n",
       "\n",
       "    .dataframe tbody tr th {\n",
       "        vertical-align: top;\n",
       "    }\n",
       "\n",
       "    .dataframe thead th {\n",
       "        text-align: right;\n",
       "    }\n",
       "</style>\n",
       "<table border=\"1\" class=\"dataframe\">\n",
       "  <thead>\n",
       "    <tr style=\"text-align: right;\">\n",
       "      <th></th>\n",
       "      <th>week</th>\n",
       "      <th>arrest</th>\n",
       "      <th>fin</th>\n",
       "      <th>age</th>\n",
       "      <th>race</th>\n",
       "      <th>wexp</th>\n",
       "      <th>mar</th>\n",
       "      <th>paro</th>\n",
       "      <th>prio</th>\n",
       "    </tr>\n",
       "  </thead>\n",
       "  <tbody>\n",
       "    <tr>\n",
       "      <th>0</th>\n",
       "      <td>20</td>\n",
       "      <td>1</td>\n",
       "      <td>0</td>\n",
       "      <td>27</td>\n",
       "      <td>1</td>\n",
       "      <td>0</td>\n",
       "      <td>0</td>\n",
       "      <td>1</td>\n",
       "      <td>3</td>\n",
       "    </tr>\n",
       "    <tr>\n",
       "      <th>1</th>\n",
       "      <td>17</td>\n",
       "      <td>1</td>\n",
       "      <td>0</td>\n",
       "      <td>18</td>\n",
       "      <td>1</td>\n",
       "      <td>0</td>\n",
       "      <td>0</td>\n",
       "      <td>1</td>\n",
       "      <td>8</td>\n",
       "    </tr>\n",
       "    <tr>\n",
       "      <th>2</th>\n",
       "      <td>25</td>\n",
       "      <td>1</td>\n",
       "      <td>0</td>\n",
       "      <td>19</td>\n",
       "      <td>0</td>\n",
       "      <td>1</td>\n",
       "      <td>0</td>\n",
       "      <td>1</td>\n",
       "      <td>13</td>\n",
       "    </tr>\n",
       "    <tr>\n",
       "      <th>3</th>\n",
       "      <td>52</td>\n",
       "      <td>0</td>\n",
       "      <td>1</td>\n",
       "      <td>23</td>\n",
       "      <td>1</td>\n",
       "      <td>1</td>\n",
       "      <td>1</td>\n",
       "      <td>1</td>\n",
       "      <td>1</td>\n",
       "    </tr>\n",
       "    <tr>\n",
       "      <th>4</th>\n",
       "      <td>52</td>\n",
       "      <td>0</td>\n",
       "      <td>0</td>\n",
       "      <td>19</td>\n",
       "      <td>0</td>\n",
       "      <td>1</td>\n",
       "      <td>0</td>\n",
       "      <td>1</td>\n",
       "      <td>3</td>\n",
       "    </tr>\n",
       "    <tr>\n",
       "      <th>...</th>\n",
       "      <td>...</td>\n",
       "      <td>...</td>\n",
       "      <td>...</td>\n",
       "      <td>...</td>\n",
       "      <td>...</td>\n",
       "      <td>...</td>\n",
       "      <td>...</td>\n",
       "      <td>...</td>\n",
       "      <td>...</td>\n",
       "    </tr>\n",
       "    <tr>\n",
       "      <th>427</th>\n",
       "      <td>52</td>\n",
       "      <td>0</td>\n",
       "      <td>1</td>\n",
       "      <td>31</td>\n",
       "      <td>0</td>\n",
       "      <td>1</td>\n",
       "      <td>0</td>\n",
       "      <td>1</td>\n",
       "      <td>3</td>\n",
       "    </tr>\n",
       "    <tr>\n",
       "      <th>428</th>\n",
       "      <td>52</td>\n",
       "      <td>0</td>\n",
       "      <td>0</td>\n",
       "      <td>20</td>\n",
       "      <td>1</td>\n",
       "      <td>0</td>\n",
       "      <td>0</td>\n",
       "      <td>1</td>\n",
       "      <td>1</td>\n",
       "    </tr>\n",
       "    <tr>\n",
       "      <th>429</th>\n",
       "      <td>52</td>\n",
       "      <td>0</td>\n",
       "      <td>1</td>\n",
       "      <td>20</td>\n",
       "      <td>1</td>\n",
       "      <td>1</td>\n",
       "      <td>1</td>\n",
       "      <td>1</td>\n",
       "      <td>1</td>\n",
       "    </tr>\n",
       "    <tr>\n",
       "      <th>430</th>\n",
       "      <td>52</td>\n",
       "      <td>0</td>\n",
       "      <td>0</td>\n",
       "      <td>29</td>\n",
       "      <td>1</td>\n",
       "      <td>1</td>\n",
       "      <td>0</td>\n",
       "      <td>1</td>\n",
       "      <td>3</td>\n",
       "    </tr>\n",
       "    <tr>\n",
       "      <th>431</th>\n",
       "      <td>52</td>\n",
       "      <td>0</td>\n",
       "      <td>1</td>\n",
       "      <td>24</td>\n",
       "      <td>1</td>\n",
       "      <td>1</td>\n",
       "      <td>0</td>\n",
       "      <td>1</td>\n",
       "      <td>1</td>\n",
       "    </tr>\n",
       "  </tbody>\n",
       "</table>\n",
       "<p>432 rows × 9 columns</p>\n",
       "</div>"
      ],
      "text/plain": [
       "     week  arrest  fin  age  race  wexp  mar  paro  prio\n",
       "0      20       1    0   27     1     0    0     1     3\n",
       "1      17       1    0   18     1     0    0     1     8\n",
       "2      25       1    0   19     0     1    0     1    13\n",
       "3      52       0    1   23     1     1    1     1     1\n",
       "4      52       0    0   19     0     1    0     1     3\n",
       "..    ...     ...  ...  ...   ...   ...  ...   ...   ...\n",
       "427    52       0    1   31     0     1    0     1     3\n",
       "428    52       0    0   20     1     0    0     1     1\n",
       "429    52       0    1   20     1     1    1     1     1\n",
       "430    52       0    0   29     1     1    0     1     3\n",
       "431    52       0    1   24     1     1    0     1     1\n",
       "\n",
       "[432 rows x 9 columns]"
      ]
     },
     "execution_count": 4,
     "metadata": {},
     "output_type": "execute_result"
    }
   ],
   "source": [
    "df = load_rossi()\n",
    "df\n",
    "#  Week column shows the survival duration\n",
    "# Arrest column shows the event (arrest) has occurred"
   ]
  },
  {
   "cell_type": "code",
   "execution_count": 5,
   "metadata": {},
   "outputs": [],
   "source": [
    "from lifelines import KaplanMeierFitter\n",
    "import matplotlib.pyplot as plt"
   ]
  },
  {
   "cell_type": "code",
   "execution_count": 6,
   "metadata": {},
   "outputs": [
    {
     "data": {
      "text/plain": [
       "<lifelines.KaplanMeierFitter:\"KM_estimate\", fitted with 432 total observations, 318 right-censored observations>"
      ]
     },
     "execution_count": 6,
     "metadata": {},
     "output_type": "execute_result"
    }
   ],
   "source": [
    "kmf = KaplanMeierFitter()\n",
    "kmf.fit(durations=df[\"week\"],\n",
    "        event_observed = df[\"arrest\"])"
   ]
  },
  {
   "cell_type": "code",
   "execution_count": 7,
   "metadata": {},
   "outputs": [
    {
     "data": {
      "image/png": "[encoded data removed]",
      "text/plain": [
       "<Figure size 640x480 with 1 Axes>"
      ]
     },
     "metadata": {},
     "output_type": "display_data"
    }
   ],
   "source": [
    "kmf.plot(ci_show=False)\n",
    "plt.ylabel(\"survival rate\")\n",
    "plt.xlabel(\"Survival curve\")\n",
    "plt.show()"
   ]
  },
  {
   "cell_type": "code",
   "execution_count": null,
   "metadata": {},
   "outputs": [],
   "source": []
  },
  {
   "attachments": {},
   "cell_type": "markdown",
   "metadata": {},
   "source": [
    "## Kaplan Meier Model with LogrankTest"
   ]
  },
  {
   "cell_type": "code",
   "execution_count": 13,
   "metadata": {},
   "outputs": [],
   "source": [
    "import numpy as np\n",
    "import pandas as pd\n",
    "from string import ascii_lowercase\n",
    "# Visualisation\n",
    "import matplotlib.pyplot as plt\n",
    "import seaborn as sns\n",
    "from lifelines.statistics import logrank_test\n",
    "sns.set(style='dark', context='talk')\n",
    "# Kaplan-Meier curve\n",
    "from lifelines import KaplanMeierFitter \n",
    "# Create a toy dataframe\n",
    "df = pd.DataFrame(data={'duration': [3,9,5,8,7,2,1,3,4],\n",
    "                        'duration2': [3,4,9,8,10,2,5,3,1],\n",
    "                        'event': [1,0,1,0,1,0,1,0,0]}, \n",
    "                  index=list(ascii_lowercase[:9]))\n"
   ]
  },
  {
   "cell_type": "code",
   "execution_count": 14,
   "metadata": {},
   "outputs": [
    {
     "data": {
      "text/html": [
       "<div>\n",
       "<style scoped>\n",
       "    .dataframe tbody tr th:only-of-type {\n",
       "        vertical-align: middle;\n",
       "    }\n",
       "\n",
       "    .dataframe tbody tr th {\n",
       "        vertical-align: top;\n",
       "    }\n",
       "\n",
       "    .dataframe thead th {\n",
       "        text-align: right;\n",
       "    }\n",
       "</style>\n",
       "<table border=\"1\" class=\"dataframe\">\n",
       "  <thead>\n",
       "    <tr style=\"text-align: right;\">\n",
       "      <th></th>\n",
       "      <th>duration</th>\n",
       "      <th>duration2</th>\n",
       "      <th>event</th>\n",
       "    </tr>\n",
       "  </thead>\n",
       "  <tbody>\n",
       "    <tr>\n",
       "      <th>a</th>\n",
       "      <td>3</td>\n",
       "      <td>3</td>\n",
       "      <td>1</td>\n",
       "    </tr>\n",
       "    <tr>\n",
       "      <th>b</th>\n",
       "      <td>9</td>\n",
       "      <td>4</td>\n",
       "      <td>0</td>\n",
       "    </tr>\n",
       "    <tr>\n",
       "      <th>c</th>\n",
       "      <td>5</td>\n",
       "      <td>9</td>\n",
       "      <td>1</td>\n",
       "    </tr>\n",
       "    <tr>\n",
       "      <th>d</th>\n",
       "      <td>8</td>\n",
       "      <td>8</td>\n",
       "      <td>0</td>\n",
       "    </tr>\n",
       "    <tr>\n",
       "      <th>e</th>\n",
       "      <td>7</td>\n",
       "      <td>10</td>\n",
       "      <td>1</td>\n",
       "    </tr>\n",
       "    <tr>\n",
       "      <th>f</th>\n",
       "      <td>2</td>\n",
       "      <td>2</td>\n",
       "      <td>0</td>\n",
       "    </tr>\n",
       "    <tr>\n",
       "      <th>g</th>\n",
       "      <td>1</td>\n",
       "      <td>5</td>\n",
       "      <td>1</td>\n",
       "    </tr>\n",
       "    <tr>\n",
       "      <th>h</th>\n",
       "      <td>3</td>\n",
       "      <td>3</td>\n",
       "      <td>0</td>\n",
       "    </tr>\n",
       "    <tr>\n",
       "      <th>i</th>\n",
       "      <td>4</td>\n",
       "      <td>1</td>\n",
       "      <td>0</td>\n",
       "    </tr>\n",
       "  </tbody>\n",
       "</table>\n",
       "</div>"
      ],
      "text/plain": [
       "   duration  duration2  event\n",
       "a         3          3      1\n",
       "b         9          4      0\n",
       "c         5          9      1\n",
       "d         8          8      0\n",
       "e         7         10      1\n",
       "f         2          2      0\n",
       "g         1          5      1\n",
       "h         3          3      0\n",
       "i         4          1      0"
      ]
     },
     "execution_count": 14,
     "metadata": {},
     "output_type": "execute_result"
    }
   ],
   "source": [
    "df"
   ]
  },
  {
   "cell_type": "code",
   "execution_count": 20,
   "metadata": {},
   "outputs": [
    {
     "name": "stdout",
     "output_type": "stream",
     "text": [
      "P-value: 0.5995645467276011\n"
     ]
    }
   ],
   "source": [
    "results = logrank_test(durations_A=df['duration'],\n",
    "                      event_observed_A=df['event'],\n",
    "                      durations_B=df['duration2'],\n",
    "                      event_observed_B=df['event'])\n",
    "results = results.summary\n",
    "print(f'P-value: {results.p[0]}')"
   ]
  }
 ],
 "metadata": {
  "kernelspec": {
   "display_name": "ml",
   "language": "python",
   "name": "python3"
  },
  "language_info": {
   "codemirror_mode": {
    "name": "ipython",
    "version": 3
   },
   "file_extension": ".py",
   "mimetype": "text/x-python",
   "name": "python",
   "nbconvert_exporter": "python",
   "pygments_lexer": "ipython3",
   "version": "3.10.4"
  },
  "orig_nbformat": 4
 },
 "nbformat": 4,
 "nbformat_minor": 2
}
